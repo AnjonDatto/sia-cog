{
 "cells": [
  {
   "cell_type": "code",
   "execution_count": 1,
   "metadata": {
    "collapsed": true
   },
   "outputs": [],
   "source": [
    "from pandas import read_csv\n",
    "from pandas import set_option"
   ]
  },
  {
   "cell_type": "code",
   "execution_count": 6,
   "metadata": {},
   "outputs": [],
   "source": [
    "filename = \"data.csv\".format(id, names=['order_id','user_id','eval_set','order_number','order_dow','order_hour_of_day','days_since_prior_order','add_to_cart_order','reordered','product_id'])\n",
    "data = read_csv(filename)"
   ]
  },
  {
   "cell_type": "code",
   "execution_count": 10,
   "metadata": {},
   "outputs": [
    {
     "name": "stdout",
     "output_type": "stream",
     "text": [
      "<table border=\"1\" class=\"dataframe\">\n",
      "  <thead>\n",
      "    <tr style=\"text-align: right;\">\n",
      "      <th></th>\n",
      "      <th>order_id</th>\n",
      "      <th>user_id</th>\n",
      "      <th>order_number</th>\n",
      "      <th>order_dow</th>\n",
      "      <th>order_hour_of_day</th>\n",
      "      <th>days_since_prior_order</th>\n",
      "      <th>add_to_cart_order</th>\n",
      "      <th>reordered</th>\n",
      "      <th>product_id</th>\n",
      "    </tr>\n",
      "  </thead>\n",
      "  <tbody>\n",
      "    <tr>\n",
      "      <th>count</th>\n",
      "      <td>9.998700e+04</td>\n",
      "      <td>99987.000000</td>\n",
      "      <td>99987.000000</td>\n",
      "      <td>99987.000000</td>\n",
      "      <td>99987.000000</td>\n",
      "      <td>99987.000000</td>\n",
      "      <td>99987.000000</td>\n",
      "      <td>99987.000000</td>\n",
      "      <td>99987.000000</td>\n",
      "    </tr>\n",
      "    <tr>\n",
      "      <th>mean</th>\n",
      "      <td>1.686259e+06</td>\n",
      "      <td>935.043616</td>\n",
      "      <td>17.749137</td>\n",
      "      <td>2.758759</td>\n",
      "      <td>13.490584</td>\n",
      "      <td>10.174443</td>\n",
      "      <td>8.469481</td>\n",
      "      <td>0.584566</td>\n",
      "      <td>25583.960915</td>\n",
      "    </tr>\n",
      "    <tr>\n",
      "      <th>std</th>\n",
      "      <td>9.834043e+05</td>\n",
      "      <td>523.257459</td>\n",
      "      <td>18.321446</td>\n",
      "      <td>2.106281</td>\n",
      "      <td>4.186747</td>\n",
      "      <td>8.964301</td>\n",
      "      <td>7.336081</td>\n",
      "      <td>0.492799</td>\n",
      "      <td>14120.324467</td>\n",
      "    </tr>\n",
      "    <tr>\n",
      "      <th>min</th>\n",
      "      <td>2.140000e+02</td>\n",
      "      <td>3.000000</td>\n",
      "      <td>1.000000</td>\n",
      "      <td>0.000000</td>\n",
      "      <td>0.000000</td>\n",
      "      <td>0.000000</td>\n",
      "      <td>1.000000</td>\n",
      "      <td>0.000000</td>\n",
      "      <td>1.000000</td>\n",
      "    </tr>\n",
      "    <tr>\n",
      "      <th>25%</th>\n",
      "      <td>8.486470e+05</td>\n",
      "      <td>462.000000</td>\n",
      "      <td>5.000000</td>\n",
      "      <td>1.000000</td>\n",
      "      <td>10.000000</td>\n",
      "      <td>4.000000</td>\n",
      "      <td>3.000000</td>\n",
      "      <td>0.000000</td>\n",
      "      <td>13607.500000</td>\n",
      "    </tr>\n",
      "    <tr>\n",
      "      <th>50%</th>\n",
      "      <td>1.677961e+06</td>\n",
      "      <td>964.000000</td>\n",
      "      <td>11.000000</td>\n",
      "      <td>3.000000</td>\n",
      "      <td>13.000000</td>\n",
      "      <td>7.000000</td>\n",
      "      <td>6.000000</td>\n",
      "      <td>1.000000</td>\n",
      "      <td>25204.000000</td>\n",
      "    </tr>\n",
      "    <tr>\n",
      "      <th>75%</th>\n",
      "      <td>2.539865e+06</td>\n",
      "      <td>1411.000000</td>\n",
      "      <td>25.000000</td>\n",
      "      <td>5.000000</td>\n",
      "      <td>16.000000</td>\n",
      "      <td>14.000000</td>\n",
      "      <td>12.000000</td>\n",
      "      <td>1.000000</td>\n",
      "      <td>37973.000000</td>\n",
      "    </tr>\n",
      "    <tr>\n",
      "      <th>max</th>\n",
      "      <td>3.420235e+06</td>\n",
      "      <td>1819.000000</td>\n",
      "      <td>99.000000</td>\n",
      "      <td>6.000000</td>\n",
      "      <td>23.000000</td>\n",
      "      <td>30.000000</td>\n",
      "      <td>62.000000</td>\n",
      "      <td>1.000000</td>\n",
      "      <td>49683.000000</td>\n",
      "    </tr>\n",
      "  </tbody>\n",
      "</table>\n"
     ]
    }
   ],
   "source": [
    "print(data.describe().to_html(header=True,border =1))"
   ]
  },
  {
   "cell_type": "code",
   "execution_count": null,
   "metadata": {
    "collapsed": true
   },
   "outputs": [],
   "source": []
  }
 ],
 "metadata": {
  "kernelspec": {
   "display_name": "Python 2",
   "language": "python",
   "name": "python2"
  },
  "language_info": {
   "codemirror_mode": {
    "name": "ipython",
    "version": 2
   },
   "file_extension": ".py",
   "mimetype": "text/x-python",
   "name": "python",
   "nbconvert_exporter": "python",
   "pygments_lexer": "ipython2",
   "version": "2.7.13"
  }
 },
 "nbformat": 4,
 "nbformat_minor": 2
}
